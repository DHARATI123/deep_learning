{
 "cells": [
  {
   "cell_type": "code",
   "execution_count": 1,
   "metadata": {},
   "outputs": [],
   "source": [
    "# Importing the libraries\n",
    "import numpy as np\n",
    "import matplotlib.pyplot as plt\n",
    "import pandas as pd\n",
    "\n",
    "# Importing the dataset\n",
    "dataset = pd.read_csv('Churn_Modelling.csv')\n",
    "X = dataset.iloc[:, 3:13]\n",
    "y = dataset.iloc[:, 13]"
   ]
  },
  {
   "cell_type": "code",
   "execution_count": 2,
   "metadata": {},
   "outputs": [],
   "source": [
    "#Create dummy variables\n",
    "geography=pd.get_dummies(X[\"Geography\"],drop_first=True)\n",
    "gender=pd.get_dummies(X['Gender'],drop_first=True)\n"
   ]
  },
  {
   "cell_type": "code",
   "execution_count": 3,
   "metadata": {},
   "outputs": [],
   "source": [
    "## Concatenate the Data Frames\n",
    "\n",
    "X=pd.concat([X,geography,gender],axis=1)\n"
   ]
  },
  {
   "cell_type": "code",
   "execution_count": 4,
   "metadata": {},
   "outputs": [],
   "source": [
    "## Drop Unnecessary columns\n",
    "X=X.drop(['Geography','Gender'],axis=1)"
   ]
  },
  {
   "cell_type": "code",
   "execution_count": 5,
   "metadata": {},
   "outputs": [],
   "source": [
    "# Splitting the dataset into the Training set and Test set\n",
    "from sklearn.model_selection import train_test_split\n",
    "X_train, X_test, y_train, y_test = train_test_split(X, y, test_size = 0.2, random_state = 0)"
   ]
  },
  {
   "cell_type": "code",
   "execution_count": 6,
   "metadata": {},
   "outputs": [
    {
     "name": "stderr",
     "output_type": "stream",
     "text": [
      "/home/jupyterlab/conda/envs/python/lib/python3.6/site-packages/sklearn/preprocessing/data.py:625: DataConversionWarning: Data with input dtype uint8, int64, float64 were all converted to float64 by StandardScaler.\n",
      "  return self.partial_fit(X, y)\n",
      "/home/jupyterlab/conda/envs/python/lib/python3.6/site-packages/sklearn/base.py:462: DataConversionWarning: Data with input dtype uint8, int64, float64 were all converted to float64 by StandardScaler.\n",
      "  return self.fit(X, **fit_params).transform(X)\n",
      "/home/jupyterlab/conda/envs/python/lib/python3.6/site-packages/ipykernel_launcher.py:5: DataConversionWarning: Data with input dtype uint8, int64, float64 were all converted to float64 by StandardScaler.\n",
      "  \"\"\"\n"
     ]
    }
   ],
   "source": [
    "# Feature Scaling\n",
    "from sklearn.preprocessing import StandardScaler\n",
    "sc = StandardScaler()\n",
    "X_train = sc.fit_transform(X_train)\n",
    "X_test = sc.transform(X_test)"
   ]
  },
  {
   "cell_type": "code",
   "execution_count": 7,
   "metadata": {},
   "outputs": [
    {
     "name": "stderr",
     "output_type": "stream",
     "text": [
      "Using TensorFlow backend.\n",
      "/home/jupyterlab/conda/envs/python/lib/python3.6/site-packages/tensorflow/python/framework/dtypes.py:519: FutureWarning: Passing (type, 1) or '1type' as a synonym of type is deprecated; in a future version of numpy, it will be understood as (type, (1,)) / '(1,)type'.\n",
      "  _np_qint8 = np.dtype([(\"qint8\", np.int8, 1)])\n",
      "/home/jupyterlab/conda/envs/python/lib/python3.6/site-packages/tensorflow/python/framework/dtypes.py:520: FutureWarning: Passing (type, 1) or '1type' as a synonym of type is deprecated; in a future version of numpy, it will be understood as (type, (1,)) / '(1,)type'.\n",
      "  _np_quint8 = np.dtype([(\"quint8\", np.uint8, 1)])\n",
      "/home/jupyterlab/conda/envs/python/lib/python3.6/site-packages/tensorflow/python/framework/dtypes.py:521: FutureWarning: Passing (type, 1) or '1type' as a synonym of type is deprecated; in a future version of numpy, it will be understood as (type, (1,)) / '(1,)type'.\n",
      "  _np_qint16 = np.dtype([(\"qint16\", np.int16, 1)])\n",
      "/home/jupyterlab/conda/envs/python/lib/python3.6/site-packages/tensorflow/python/framework/dtypes.py:522: FutureWarning: Passing (type, 1) or '1type' as a synonym of type is deprecated; in a future version of numpy, it will be understood as (type, (1,)) / '(1,)type'.\n",
      "  _np_quint16 = np.dtype([(\"quint16\", np.uint16, 1)])\n",
      "/home/jupyterlab/conda/envs/python/lib/python3.6/site-packages/tensorflow/python/framework/dtypes.py:523: FutureWarning: Passing (type, 1) or '1type' as a synonym of type is deprecated; in a future version of numpy, it will be understood as (type, (1,)) / '(1,)type'.\n",
      "  _np_qint32 = np.dtype([(\"qint32\", np.int32, 1)])\n",
      "/home/jupyterlab/conda/envs/python/lib/python3.6/site-packages/tensorflow/python/framework/dtypes.py:528: FutureWarning: Passing (type, 1) or '1type' as a synonym of type is deprecated; in a future version of numpy, it will be understood as (type, (1,)) / '(1,)type'.\n",
      "  np_resource = np.dtype([(\"resource\", np.ubyte, 1)])\n"
     ]
    }
   ],
   "source": [
    "# Part 2 - Now let's make the ANN!\n",
    "\n",
    "# Importing the Keras libraries and packages\n",
    "import keras\n",
    "from keras.models import Sequential\n",
    "from keras.layers import Dense\n",
    "from keras.layers import LeakyReLU,PReLU,ELU\n",
    "from keras.layers import Dropout"
   ]
  },
  {
   "cell_type": "code",
   "execution_count": 8,
   "metadata": {},
   "outputs": [
    {
     "name": "stderr",
     "output_type": "stream",
     "text": [
      "/home/jupyterlab/conda/envs/python/lib/python3.6/site-packages/ipykernel_launcher.py:5: UserWarning: Update your `Dense` call to the Keras 2 API: `Dense(activation=\"relu\", input_dim=11, units=6, kernel_initializer=\"he_uniform\")`\n",
      "  \"\"\"\n",
      "/home/jupyterlab/conda/envs/python/lib/python3.6/site-packages/ipykernel_launcher.py:8: UserWarning: Update your `Dense` call to the Keras 2 API: `Dense(activation=\"relu\", units=6, kernel_initializer=\"he_uniform\")`\n",
      "  \n",
      "/home/jupyterlab/conda/envs/python/lib/python3.6/site-packages/ipykernel_launcher.py:10: UserWarning: Update your `Dense` call to the Keras 2 API: `Dense(activation=\"sigmoid\", units=1, kernel_initializer=\"glorot_uniform\")`\n",
      "  # Remove the CWD from sys.path while we load stuff.\n",
      "/home/jupyterlab/conda/envs/python/lib/python3.6/site-packages/keras/models.py:981: UserWarning: The `nb_epoch` argument in `fit` has been renamed `epochs`.\n",
      "  warnings.warn('The `nb_epoch` argument in `fit` '\n"
     ]
    },
    {
     "name": "stdout",
     "output_type": "stream",
     "text": [
      "Train on 5359 samples, validate on 2641 samples\n",
      "Epoch 1/100\n",
      "5359/5359 [==============================] - 10s 2ms/step - loss: 0.5747 - acc: 0.7462 - val_loss: 0.5337 - val_acc: 0.7933\n",
      "Epoch 2/100\n",
      "5359/5359 [==============================] - 9s 2ms/step - loss: 0.5068 - acc: 0.7974 - val_loss: 0.5055 - val_acc: 0.7982\n",
      "Epoch 3/100\n",
      "5359/5359 [==============================] - 10s 2ms/step - loss: 0.4851 - acc: 0.8003 - val_loss: 0.4895 - val_acc: 0.7986\n",
      "Epoch 4/100\n",
      "5359/5359 [==============================] - 9s 2ms/step - loss: 0.4672 - acc: 0.8052 - val_loss: 0.4739 - val_acc: 0.8039\n",
      "Epoch 5/100\n",
      "5359/5359 [==============================] - 9s 2ms/step - loss: 0.4512 - acc: 0.8113 - val_loss: 0.4616 - val_acc: 0.8046\n",
      "Epoch 6/100\n",
      "5359/5359 [==============================] - 9s 2ms/step - loss: 0.4383 - acc: 0.8190 - val_loss: 0.4521 - val_acc: 0.8103\n",
      "Epoch 7/100\n",
      "5359/5359 [==============================] - 9s 2ms/step - loss: 0.4295 - acc: 0.8218 - val_loss: 0.4460 - val_acc: 0.8118\n",
      "Epoch 8/100\n",
      "5359/5359 [==============================] - 9s 2ms/step - loss: 0.4235 - acc: 0.8255 - val_loss: 0.4418 - val_acc: 0.8145\n",
      "Epoch 9/100\n",
      "5359/5359 [==============================] - 9s 2ms/step - loss: 0.4187 - acc: 0.8276 - val_loss: 0.4372 - val_acc: 0.8167\n",
      "Epoch 10/100\n",
      "5359/5359 [==============================] - 10s 2ms/step - loss: 0.4146 - acc: 0.8308 - val_loss: 0.4332 - val_acc: 0.8183\n",
      "Epoch 11/100\n",
      "5359/5359 [==============================] - 9s 2ms/step - loss: 0.4109 - acc: 0.8313 - val_loss: 0.4300 - val_acc: 0.8224\n",
      "Epoch 12/100\n",
      "5359/5359 [==============================] - 10s 2ms/step - loss: 0.4075 - acc: 0.8326 - val_loss: 0.4262 - val_acc: 0.8217\n",
      "Epoch 13/100\n",
      "5359/5359 [==============================] - 10s 2ms/step - loss: 0.4046 - acc: 0.8326 - val_loss: 0.4236 - val_acc: 0.8209\n",
      "Epoch 14/100\n",
      "5359/5359 [==============================] - 10s 2ms/step - loss: 0.4018 - acc: 0.8343 - val_loss: 0.4198 - val_acc: 0.8262\n",
      "Epoch 15/100\n",
      "5359/5359 [==============================] - 10s 2ms/step - loss: 0.3991 - acc: 0.8352 - val_loss: 0.4172 - val_acc: 0.8277\n",
      "Epoch 16/100\n",
      "5359/5359 [==============================] - 9s 2ms/step - loss: 0.3962 - acc: 0.8390 - val_loss: 0.4144 - val_acc: 0.8289\n",
      "Epoch 17/100\n",
      "5359/5359 [==============================] - 10s 2ms/step - loss: 0.3933 - acc: 0.8391 - val_loss: 0.4118 - val_acc: 0.8296\n",
      "Epoch 18/100\n",
      "5359/5359 [==============================] - 9s 2ms/step - loss: 0.3906 - acc: 0.8401 - val_loss: 0.4099 - val_acc: 0.8300\n",
      "Epoch 19/100\n",
      "5359/5359 [==============================] - 9s 2ms/step - loss: 0.3877 - acc: 0.8410 - val_loss: 0.4067 - val_acc: 0.8277\n",
      "Epoch 20/100\n",
      "5359/5359 [==============================] - 9s 2ms/step - loss: 0.3847 - acc: 0.8419 - val_loss: 0.4046 - val_acc: 0.8296\n",
      "Epoch 21/100\n",
      "5359/5359 [==============================] - 9s 2ms/step - loss: 0.3817 - acc: 0.8438 - val_loss: 0.4009 - val_acc: 0.8311\n",
      "Epoch 22/100\n",
      "5359/5359 [==============================] - 9s 2ms/step - loss: 0.3785 - acc: 0.8457 - val_loss: 0.3980 - val_acc: 0.8338\n",
      "Epoch 23/100\n",
      "5359/5359 [==============================] - 9s 2ms/step - loss: 0.3751 - acc: 0.8453 - val_loss: 0.3947 - val_acc: 0.8326\n",
      "Epoch 24/100\n",
      "5359/5359 [==============================] - 9s 2ms/step - loss: 0.3715 - acc: 0.8464 - val_loss: 0.3921 - val_acc: 0.8326\n",
      "Epoch 25/100\n",
      "5359/5359 [==============================] - 9s 2ms/step - loss: 0.3678 - acc: 0.8464 - val_loss: 0.3893 - val_acc: 0.8345\n",
      "Epoch 26/100\n",
      "5359/5359 [==============================] - 9s 2ms/step - loss: 0.3644 - acc: 0.8507 - val_loss: 0.3861 - val_acc: 0.8349\n",
      "Epoch 27/100\n",
      "5359/5359 [==============================] - 10s 2ms/step - loss: 0.3611 - acc: 0.8513 - val_loss: 0.3831 - val_acc: 0.8376\n",
      "Epoch 28/100\n",
      "5359/5359 [==============================] - 9s 2ms/step - loss: 0.3578 - acc: 0.8505 - val_loss: 0.3800 - val_acc: 0.8379\n",
      "Epoch 29/100\n",
      "5359/5359 [==============================] - 8s 2ms/step - loss: 0.3551 - acc: 0.8531 - val_loss: 0.3777 - val_acc: 0.8376\n",
      "Epoch 30/100\n",
      "5359/5359 [==============================] - 13s 2ms/step - loss: 0.3527 - acc: 0.8550 - val_loss: 0.3760 - val_acc: 0.8368\n",
      "Epoch 31/100\n",
      "5359/5359 [==============================] - 17s 3ms/step - loss: 0.3504 - acc: 0.8552 - val_loss: 0.3745 - val_acc: 0.8372\n",
      "Epoch 32/100\n",
      "5359/5359 [==============================] - 10s 2ms/step - loss: 0.3485 - acc: 0.8559 - val_loss: 0.3727 - val_acc: 0.8395\n",
      "Epoch 33/100\n",
      "5359/5359 [==============================] - 10s 2ms/step - loss: 0.3470 - acc: 0.8580 - val_loss: 0.3707 - val_acc: 0.8398\n",
      "Epoch 34/100\n",
      "5359/5359 [==============================] - 10s 2ms/step - loss: 0.3453 - acc: 0.8584 - val_loss: 0.3692 - val_acc: 0.8413\n",
      "Epoch 35/100\n",
      "5359/5359 [==============================] - 13s 2ms/step - loss: 0.3437 - acc: 0.8584 - val_loss: 0.3676 - val_acc: 0.8425\n",
      "Epoch 36/100\n",
      "5359/5359 [==============================] - 18s 3ms/step - loss: 0.3425 - acc: 0.8597 - val_loss: 0.3665 - val_acc: 0.8432\n",
      "Epoch 37/100\n",
      "5359/5359 [==============================] - 13s 2ms/step - loss: 0.3413 - acc: 0.8606 - val_loss: 0.3660 - val_acc: 0.8444\n",
      "Epoch 38/100\n",
      "5359/5359 [==============================] - 12s 2ms/step - loss: 0.3405 - acc: 0.8610 - val_loss: 0.3647 - val_acc: 0.8459\n",
      "Epoch 39/100\n",
      "5359/5359 [==============================] - 11s 2ms/step - loss: 0.3395 - acc: 0.8627 - val_loss: 0.3651 - val_acc: 0.8466\n",
      "Epoch 40/100\n",
      "5359/5359 [==============================] - 12s 2ms/step - loss: 0.3388 - acc: 0.8614 - val_loss: 0.3643 - val_acc: 0.8463\n",
      "Epoch 41/100\n",
      "5359/5359 [==============================] - 12s 2ms/step - loss: 0.3383 - acc: 0.8604 - val_loss: 0.3635 - val_acc: 0.8470\n",
      "Epoch 42/100\n",
      "5359/5359 [==============================] - 11s 2ms/step - loss: 0.3375 - acc: 0.8634 - val_loss: 0.3632 - val_acc: 0.8478\n",
      "Epoch 43/100\n",
      "5359/5359 [==============================] - 12s 2ms/step - loss: 0.3371 - acc: 0.8619 - val_loss: 0.3629 - val_acc: 0.8497\n",
      "Epoch 44/100\n",
      "5359/5359 [==============================] - 12s 2ms/step - loss: 0.3364 - acc: 0.8627 - val_loss: 0.3623 - val_acc: 0.8493\n",
      "Epoch 45/100\n",
      "5359/5359 [==============================] - 12s 2ms/step - loss: 0.3361 - acc: 0.8636 - val_loss: 0.3624 - val_acc: 0.8516\n",
      "Epoch 46/100\n",
      "5359/5359 [==============================] - 13s 2ms/step - loss: 0.3356 - acc: 0.8632 - val_loss: 0.3615 - val_acc: 0.8501\n",
      "Epoch 47/100\n",
      "5359/5359 [==============================] - 12s 2ms/step - loss: 0.3351 - acc: 0.8632 - val_loss: 0.3615 - val_acc: 0.8501\n",
      "Epoch 48/100\n",
      "5359/5359 [==============================] - 12s 2ms/step - loss: 0.3346 - acc: 0.8619 - val_loss: 0.3604 - val_acc: 0.8504\n",
      "Epoch 49/100\n",
      "5359/5359 [==============================] - 12s 2ms/step - loss: 0.3344 - acc: 0.8642 - val_loss: 0.3602 - val_acc: 0.8520\n",
      "Epoch 50/100\n",
      "5359/5359 [==============================] - 13s 2ms/step - loss: 0.3340 - acc: 0.8649 - val_loss: 0.3600 - val_acc: 0.8520\n",
      "Epoch 51/100\n",
      "5359/5359 [==============================] - 12s 2ms/step - loss: 0.3335 - acc: 0.8643 - val_loss: 0.3602 - val_acc: 0.8516\n",
      "Epoch 52/100\n",
      "5359/5359 [==============================] - 12s 2ms/step - loss: 0.3332 - acc: 0.8638 - val_loss: 0.3599 - val_acc: 0.8508\n",
      "Epoch 53/100\n",
      "5359/5359 [==============================] - 12s 2ms/step - loss: 0.3327 - acc: 0.8645 - val_loss: 0.3605 - val_acc: 0.8501\n",
      "Epoch 54/100\n",
      "5359/5359 [==============================] - 11s 2ms/step - loss: 0.3324 - acc: 0.8632 - val_loss: 0.3588 - val_acc: 0.8531\n",
      "Epoch 55/100\n",
      "5359/5359 [==============================] - 11s 2ms/step - loss: 0.3322 - acc: 0.8658 - val_loss: 0.3585 - val_acc: 0.8504\n",
      "Epoch 56/100\n",
      "5359/5359 [==============================] - 12s 2ms/step - loss: 0.3319 - acc: 0.8632 - val_loss: 0.3588 - val_acc: 0.8523\n",
      "Epoch 57/100\n",
      "5359/5359 [==============================] - 13s 2ms/step - loss: 0.3314 - acc: 0.8656 - val_loss: 0.3589 - val_acc: 0.8520\n",
      "Epoch 58/100\n",
      "5359/5359 [==============================] - 12s 2ms/step - loss: 0.3311 - acc: 0.8658 - val_loss: 0.3594 - val_acc: 0.8531\n",
      "Epoch 59/100\n",
      "5359/5359 [==============================] - 12s 2ms/step - loss: 0.3312 - acc: 0.8662 - val_loss: 0.3598 - val_acc: 0.8520\n",
      "Epoch 60/100\n",
      "5359/5359 [==============================] - 12s 2ms/step - loss: 0.3308 - acc: 0.8662 - val_loss: 0.3590 - val_acc: 0.8554A: 1s - loss: 0. - ETA: 0s - loss: 0.3309 - ac\n",
      "Epoch 61/100\n",
      "5359/5359 [==============================] - 12s 2ms/step - loss: 0.3302 - acc: 0.8660 - val_loss: 0.3590 - val_acc: 0.8535\n",
      "Epoch 62/100\n",
      "5359/5359 [==============================] - 12s 2ms/step - loss: 0.3302 - acc: 0.8658 - val_loss: 0.3586 - val_acc: 0.8531\n",
      "Epoch 63/100\n",
      "5359/5359 [==============================] - 12s 2ms/step - loss: 0.3299 - acc: 0.8653 - val_loss: 0.3584 - val_acc: 0.8546\n",
      "Epoch 64/100\n",
      "5359/5359 [==============================] - 13s 2ms/step - loss: 0.3293 - acc: 0.8670 - val_loss: 0.3603 - val_acc: 0.8535\n",
      "Epoch 65/100\n",
      "5359/5359 [==============================] - 12s 2ms/step - loss: 0.3296 - acc: 0.8655 - val_loss: 0.3588 - val_acc: 0.8531\n",
      "Epoch 66/100\n",
      "5359/5359 [==============================] - 12s 2ms/step - loss: 0.3296 - acc: 0.8655 - val_loss: 0.3588 - val_acc: 0.8527\n",
      "Epoch 67/100\n",
      "5359/5359 [==============================] - 13s 2ms/step - loss: 0.3292 - acc: 0.8643 - val_loss: 0.3585 - val_acc: 0.8535A: 1s - loss: 0.3278 - acc: 0.864 - ETA: 1s - loss: \n",
      "Epoch 68/100\n",
      "5359/5359 [==============================] - 12s 2ms/step - loss: 0.3288 - acc: 0.8647 - val_loss: 0.3592 - val_acc: 0.8535\n",
      "Epoch 69/100\n",
      "5359/5359 [==============================] - 12s 2ms/step - loss: 0.3287 - acc: 0.8658 - val_loss: 0.3587 - val_acc: 0.8535s - loss: 0.3241 \n",
      "Epoch 70/100\n",
      "5359/5359 [==============================] - 11s 2ms/step - loss: 0.3287 - acc: 0.8664 - val_loss: 0.3586 - val_acc: 0.8531\n",
      "Epoch 71/100\n",
      "5359/5359 [==============================] - 12s 2ms/step - loss: 0.3284 - acc: 0.8660 - val_loss: 0.3594 - val_acc: 0.8516\n",
      "Epoch 72/100\n",
      "5359/5359 [==============================] - 12s 2ms/step - loss: 0.3285 - acc: 0.8647 - val_loss: 0.3577 - val_acc: 0.8523\n",
      "Epoch 73/100\n",
      "5359/5359 [==============================] - 13s 3ms/step - loss: 0.3283 - acc: 0.8647 - val_loss: 0.3582 - val_acc: 0.8538\n",
      "Epoch 74/100\n",
      "5359/5359 [==============================] - 12s 2ms/step - loss: 0.3282 - acc: 0.8653 - val_loss: 0.3584 - val_acc: 0.8520\n",
      "Epoch 75/100\n",
      "5359/5359 [==============================] - 12s 2ms/step - loss: 0.3279 - acc: 0.8640 - val_loss: 0.3572 - val_acc: 0.8554\n",
      "Epoch 76/100\n",
      "5359/5359 [==============================] - 12s 2ms/step - loss: 0.3280 - acc: 0.8658 - val_loss: 0.3578 - val_acc: 0.8520\n",
      "Epoch 77/100\n",
      "5359/5359 [==============================] - 12s 2ms/step - loss: 0.3278 - acc: 0.8664 - val_loss: 0.3577 - val_acc: 0.8520\n",
      "Epoch 78/100\n",
      "5359/5359 [==============================] - 12s 2ms/step - loss: 0.3277 - acc: 0.8662 - val_loss: 0.3592 - val_acc: 0.8538A\n",
      "Epoch 79/100\n",
      "5359/5359 [==============================] - 11s 2ms/step - loss: 0.3278 - acc: 0.8655 - val_loss: 0.3581 - val_acc: 0.8527\n",
      "Epoch 80/100\n",
      "5359/5359 [==============================] - 11s 2ms/step - loss: 0.3278 - acc: 0.8645 - val_loss: 0.3573 - val_acc: 0.8523\n",
      "Epoch 81/100\n",
      "5359/5359 [==============================] - 11s 2ms/step - loss: 0.3272 - acc: 0.8649 - val_loss: 0.3587 - val_acc: 0.8531\n",
      "Epoch 82/100\n",
      "5359/5359 [==============================] - 11s 2ms/step - loss: 0.3275 - acc: 0.8668 - val_loss: 0.3575 - val_acc: 0.8535\n",
      "Epoch 83/100\n",
      "5359/5359 [==============================] - 12s 2ms/step - loss: 0.3273 - acc: 0.8656 - val_loss: 0.3574 - val_acc: 0.8523\n",
      "Epoch 84/100\n",
      "5359/5359 [==============================] - 12s 2ms/step - loss: 0.3269 - acc: 0.8651 - val_loss: 0.3589 - val_acc: 0.8531\n",
      "Epoch 85/100\n",
      "5359/5359 [==============================] - 12s 2ms/step - loss: 0.3271 - acc: 0.8656 - val_loss: 0.3584 - val_acc: 0.8538\n",
      "Epoch 86/100\n",
      "5359/5359 [==============================] - 12s 2ms/step - loss: 0.3269 - acc: 0.8655 - val_loss: 0.3576 - val_acc: 0.8531\n",
      "Epoch 87/100\n",
      "5359/5359 [==============================] - 11s 2ms/step - loss: 0.3268 - acc: 0.8666 - val_loss: 0.3581 - val_acc: 0.8527\n",
      "Epoch 88/100\n",
      "5359/5359 [==============================] - 11s 2ms/step - loss: 0.3269 - acc: 0.8664 - val_loss: 0.3583 - val_acc: 0.8520\n",
      "Epoch 89/100\n",
      "5359/5359 [==============================] - 12s 2ms/step - loss: 0.3268 - acc: 0.8660 - val_loss: 0.3585 - val_acc: 0.8527\n",
      "Epoch 90/100\n",
      "5359/5359 [==============================] - 12s 2ms/step - loss: 0.3266 - acc: 0.8670 - val_loss: 0.3583 - val_acc: 0.8527\n",
      "Epoch 91/100\n",
      "5359/5359 [==============================] - 12s 2ms/step - loss: 0.3266 - acc: 0.8655 - val_loss: 0.3588 - val_acc: 0.8531\n",
      "Epoch 92/100\n",
      "5359/5359 [==============================] - 12s 2ms/step - loss: 0.3263 - acc: 0.8653 - val_loss: 0.3576 - val_acc: 0.8535\n",
      "Epoch 93/100\n",
      "5359/5359 [==============================] - 12s 2ms/step - loss: 0.3261 - acc: 0.8656 - val_loss: 0.3596 - val_acc: 0.8520\n",
      "Epoch 94/100\n",
      "5359/5359 [==============================] - 12s 2ms/step - loss: 0.3260 - acc: 0.8653 - val_loss: 0.3584 - val_acc: 0.8535\n",
      "Epoch 95/100\n",
      "5359/5359 [==============================] - 13s 2ms/step - loss: 0.3264 - acc: 0.8658 - val_loss: 0.3582 - val_acc: 0.8523\n",
      "Epoch 96/100\n",
      "5359/5359 [==============================] - 12s 2ms/step - loss: 0.3264 - acc: 0.8660 - val_loss: 0.3583 - val_acc: 0.8516 - loss: 0\n",
      "Epoch 97/100\n",
      "5359/5359 [==============================] - 11s 2ms/step - loss: 0.3262 - acc: 0.8655 - val_loss: 0.3588 - val_acc: 0.8523\n",
      "Epoch 98/100\n",
      "5359/5359 [==============================] - 16s 3ms/step - loss: 0.3258 - acc: 0.8658 - val_loss: 0.3588 - val_acc: 0.8527\n",
      "Epoch 99/100\n",
      "5359/5359 [==============================] - 12s 2ms/step - loss: 0.3259 - acc: 0.8655 - val_loss: 0.3583 - val_acc: 0.8523\n",
      "Epoch 100/100\n",
      "5359/5359 [==============================] - 12s 2ms/step - loss: 0.3258 - acc: 0.8666 - val_loss: 0.3581 - val_acc: 0.8523\n"
     ]
    }
   ],
   "source": [
    "# Initialising the ANN\n",
    "classifier = Sequential()\n",
    "\n",
    "# Adding the input layer and the first hidden layer\n",
    "classifier.add(Dense(output_dim = 6, init = 'he_uniform',activation='relu',input_dim = 11))\n",
    "\n",
    "# Adding the second hidden layer\n",
    "classifier.add(Dense(output_dim = 6, init = 'he_uniform',activation='relu'))\n",
    "# Adding the output layer\n",
    "classifier.add(Dense(output_dim = 1, init = 'glorot_uniform', activation = 'sigmoid'))\n",
    "\n",
    "# Compiling the ANN\n",
    "classifier.compile(optimizer = 'Adamax', loss = 'binary_crossentropy', metrics = ['accuracy'])\n",
    "\n",
    "# Fitting the ANN to the Training set\n",
    "model_history=classifier.fit(X_train, y_train,validation_split=0.33, batch_size = 10, nb_epoch = 100)\n"
   ]
  },
  {
   "cell_type": "code",
   "execution_count": 9,
   "metadata": {},
   "outputs": [
    {
     "name": "stdout",
     "output_type": "stream",
     "text": [
      "dict_keys(['val_loss', 'val_acc', 'loss', 'acc'])\n"
     ]
    },
    {
     "data": {
      "image/png": "[encoded data removed]",
      "text/plain": [
       "<Figure size 432x288 with 1 Axes>"
      ]
     },
     "metadata": {
      "needs_background": "light"
     },
     "output_type": "display_data"
    }
   ],
   "source": [
    "# list all data in history\n",
    "\n",
    "print(model_history.history.keys())\n",
    "# summarize history for accuracy\n",
    "plt.plot(model_history.history['acc'])\n",
    "plt.plot(model_history.history['val_acc'])\n",
    "plt.title('model accuracy')\n",
    "plt.ylabel('accuracy')\n",
    "plt.xlabel('epoch')\n",
    "plt.legend(['train', 'test'], loc='upper left')\n",
    "plt.show()"
   ]
  },
  {
   "cell_type": "code",
   "execution_count": 10,
   "metadata": {},
   "outputs": [
    {
     "data": {
      "image/png": "[encoded data removed]",
      "text/plain": [
       "<Figure size 432x288 with 1 Axes>"
      ]
     },
     "metadata": {
      "needs_background": "light"
     },
     "output_type": "display_data"
    }
   ],
   "source": [
    "# summarize history for loss\n",
    "plt.plot(model_history.history['loss'])\n",
    "plt.plot(model_history.history['val_loss'])\n",
    "plt.title('model loss')\n",
    "plt.ylabel('loss')\n",
    "plt.xlabel('epoch')\n",
    "plt.legend(['train', 'test'], loc='upper left')\n",
    "plt.show()"
   ]
  },
  {
   "cell_type": "code",
   "execution_count": 17,
   "metadata": {},
   "outputs": [],
   "source": [
    "# Part 3 - Making the predictions and evaluating the model\n",
    "\n",
    "# Predicting the Test set results\n",
    "y_pred = classifier.predict(X_test)\n",
    "y_pred = (y_pred > 0.5)"
   ]
  },
  {
   "cell_type": "code",
   "execution_count": 15,
   "metadata": {},
   "outputs": [
    {
     "data": {
      "text/plain": [
       "array([[1520,   75],\n",
       "       [ 202,  203]])"
      ]
     },
     "execution_count": 15,
     "metadata": {},
     "output_type": "execute_result"
    }
   ],
   "source": [
    "# Making the Confusion Matrix\n",
    "from sklearn.metrics import confusion_matrix\n",
    "cm = confusion_matrix(y_test, y_pred)\n",
    "cm"
   ]
  },
  {
   "cell_type": "code",
   "execution_count": 14,
   "metadata": {},
   "outputs": [
    {
     "data": {
      "text/plain": [
       "0.8615"
      ]
     },
     "execution_count": 14,
     "metadata": {},
     "output_type": "execute_result"
    }
   ],
   "source": [
    "# Calculate the Accuracy\n",
    "from sklearn.metrics import accuracy_score\n",
    "score=accuracy_score(y_pred,y_test)\n",
    "score"
   ]
  },
  {
   "cell_type": "code",
   "execution_count": null,
   "metadata": {},
   "outputs": [],
   "source": []
  }
 ],
 "metadata": {
  "kernelspec": {
   "display_name": "Python",
   "language": "python",
   "name": "conda-env-python-py"
  },
  "language_info": {
   "codemirror_mode": {
    "name": "ipython",
    "version": 3
   },
   "file_extension": ".py",
   "mimetype": "text/x-python",
   "name": "python",
   "nbconvert_exporter": "python",
   "pygments_lexer": "ipython3",
   "version": "3.6.12"
  }
 },
 "nbformat": 4,
 "nbformat_minor": 4
}
